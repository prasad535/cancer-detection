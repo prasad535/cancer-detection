{
 "cells": [
  {
   "cell_type": "code",
   "execution_count": 1,
   "metadata": {},
   "outputs": [],
   "source": [
    "# Downloading Data from Google Drive"
   ]
  },
  {
   "cell_type": "code",
   "execution_count": 2,
   "metadata": {},
   "outputs": [],
   "source": [
    "url = \"https://drive.google.com/file/d/1Tgqj8LtWbfLViULrAz5Af5PAN7g7GNlD/view?usp=drive_link\"\n",
    "file_id = url.split('/')[-2]"
   ]
  },
  {
   "cell_type": "code",
   "execution_count": 12,
   "metadata": {},
   "outputs": [
    {
     "name": "stderr",
     "output_type": "stream",
     "text": [
      "Downloading...\n",
      "From (original): https://drive.google.com/uc?/export=download&id=1Tgqj8LtWbfLViULrAz5Af5PAN7g7GNlD\n",
      "From (redirected): https://drive.google.com/uc?%2Fexport=download&id=1Tgqj8LtWbfLViULrAz5Af5PAN7g7GNlD&confirm=t&uuid=3fa2233d-fb92-431c-84e2-abebedbb3bc5\n",
      "To: /config/workspace/cancer-detection/experiments/CT-Scan-data.zip\n",
      "100%|██████████| 49.0M/49.0M [00:01<00:00, 35.8MB/s]\n"
     ]
    },
    {
     "data": {
      "text/plain": [
       "'CT-Scan-data.zip'"
      ]
     },
     "execution_count": 12,
     "metadata": {},
     "output_type": "execute_result"
    }
   ],
   "source": [
    "import gdown\n",
    "prefix = 'https://drive.google.com/uc?/export=download&id='\n",
    "gdown.download(prefix+file_id, \"CT-Scan-data.zip\")"
   ]
  },
  {
   "cell_type": "code",
   "execution_count": null,
   "metadata": {},
   "outputs": [],
   "source": [
    "# Project Workflow\n",
    "- update config.yaml\n",
    "- update params.yaml\n",
    "- update entity.yaml\n",
    "- update configuration.py\n",
    "- update pipeline\n",
    "- update main.py\n",
    "- update dvc.py"
   ]
  }
 ],
 "metadata": {
  "kernelspec": {
   "display_name": "Python 3.8.18 (conda)",
   "language": "python",
   "name": "python3"
  },
  "language_info": {
   "codemirror_mode": {
    "name": "ipython",
    "version": 3
   },
   "file_extension": ".py",
   "mimetype": "text/x-python",
   "name": "python",
   "nbconvert_exporter": "python",
   "pygments_lexer": "ipython3",
   "version": "3.8.19"
  },
  "orig_nbformat": 4,
  "vscode": {
   "interpreter": {
    "hash": "ac71c10506844274e841381eb140a54c51ac55ffbb04f34c13466c73022c5298"
   }
  }
 },
 "nbformat": 4,
 "nbformat_minor": 2
}
